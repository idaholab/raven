{
 "cells": [
  {
   "cell_type": "markdown",
   "metadata": {},
   "source": [
    "# PythonFMU example\n",
    "\n",
    "This is an example on how to use PythonFMU in order to export a Python script as a FMI 2.0 for CoSimulation compliant FMU."
   ]
  },
  {
   "cell_type": "markdown",
   "metadata": {},
   "source": [
    "## Installation\n",
    "\n",
    "But first thing first, you will need the `pythonfmu` Python package. To install it, you can use the pip package manager:\n",
    "\n",
    "```bash\n",
    "python -m pip install pythonfmu\n",
    "```"
   ]
  },
  {
   "cell_type": "markdown",
   "metadata": {},
   "source": [
    "## The to-be-exported script\n",
    "\n",
    "To export Python code as FMU, you will need to interface your code with the FMI facade provided through an abstract class `pythonfmu.Fmi2Slave`.\n",
    "\n",
    "In the following example, you will interface a simple resistor code."
   ]
  },
  {
   "cell_type": "code",
   "execution_count": 1,
   "metadata": {},
   "outputs": [
    {
     "data": {
      "text/plain": [
       "\u001b[0;32mfrom\u001b[0m \u001b[0mpythonfmu\u001b[0m \u001b[0;32mimport\u001b[0m \u001b[0mFmi2Causality\u001b[0m\u001b[0;34m,\u001b[0m \u001b[0mFmi2Variability\u001b[0m\u001b[0;34m,\u001b[0m \u001b[0mFmi2Slave\u001b[0m\u001b[0;34m,\u001b[0m \u001b[0mReal\u001b[0m\u001b[0;34m\u001b[0m\n",
       "\u001b[0;34m\u001b[0m\u001b[0;34m\u001b[0m\n",
       "\u001b[0;34m\u001b[0m\u001b[0;34m\u001b[0m\n",
       "\u001b[0;34m\u001b[0m\u001b[0;32mclass\u001b[0m \u001b[0mResistor\u001b[0m\u001b[0;34m(\u001b[0m\u001b[0mFmi2Slave\u001b[0m\u001b[0;34m)\u001b[0m\u001b[0;34m:\u001b[0m\u001b[0;34m\u001b[0m\n",
       "\u001b[0;34m\u001b[0m\u001b[0;34m\u001b[0m\n",
       "\u001b[0;34m\u001b[0m    \u001b[0mauthor\u001b[0m \u001b[0;34m=\u001b[0m \u001b[0;34m\"John Doe\"\u001b[0m\u001b[0;34m\u001b[0m\n",
       "\u001b[0;34m\u001b[0m    \u001b[0mdescription\u001b[0m \u001b[0;34m=\u001b[0m \u001b[0;34m\"A simple description\"\u001b[0m\u001b[0;34m\u001b[0m\n",
       "\u001b[0;34m\u001b[0m\u001b[0;34m\u001b[0m\n",
       "\u001b[0;34m\u001b[0m    \u001b[0;32mdef\u001b[0m \u001b[0m__init__\u001b[0m\u001b[0;34m(\u001b[0m\u001b[0mself\u001b[0m\u001b[0;34m,\u001b[0m \u001b[0;34m**\u001b[0m\u001b[0mkwargs\u001b[0m\u001b[0;34m)\u001b[0m\u001b[0;34m:\u001b[0m\u001b[0;34m\u001b[0m\n",
       "\u001b[0;34m\u001b[0m        \u001b[0msuper\u001b[0m\u001b[0;34m(\u001b[0m\u001b[0;34m)\u001b[0m\u001b[0;34m.\u001b[0m\u001b[0m__init__\u001b[0m\u001b[0;34m(\u001b[0m\u001b[0;34m**\u001b[0m\u001b[0mkwargs\u001b[0m\u001b[0;34m)\u001b[0m\u001b[0;34m\u001b[0m\n",
       "\u001b[0;34m\u001b[0m\u001b[0;34m\u001b[0m\n",
       "\u001b[0;34m\u001b[0m        \u001b[0mself\u001b[0m\u001b[0;34m.\u001b[0m\u001b[0mpositive_pin_v\u001b[0m \u001b[0;34m=\u001b[0m \u001b[0;36m20.\u001b[0m\u001b[0;34m\u001b[0m\n",
       "\u001b[0;34m\u001b[0m        \u001b[0mself\u001b[0m\u001b[0;34m.\u001b[0m\u001b[0mpositive_pin_i\u001b[0m \u001b[0;34m=\u001b[0m \u001b[0;36m0.001\u001b[0m\u001b[0;34m\u001b[0m\n",
       "\u001b[0;34m\u001b[0m        \u001b[0mself\u001b[0m\u001b[0;34m.\u001b[0m\u001b[0mnegative_pin_v\u001b[0m \u001b[0;34m=\u001b[0m \u001b[0;36m10.\u001b[0m\u001b[0;34m\u001b[0m\n",
       "\u001b[0;34m\u001b[0m        \u001b[0mself\u001b[0m\u001b[0;34m.\u001b[0m\u001b[0mnegative_pin_i\u001b[0m \u001b[0;34m=\u001b[0m \u001b[0;36m0.001\u001b[0m\u001b[0;34m\u001b[0m\n",
       "\u001b[0;34m\u001b[0m        \u001b[0mself\u001b[0m\u001b[0;34m.\u001b[0m\u001b[0mdelta_v\u001b[0m \u001b[0;34m=\u001b[0m \u001b[0;36m10.\u001b[0m\u001b[0;34m\u001b[0m\n",
       "\u001b[0;34m\u001b[0m        \u001b[0mself\u001b[0m\u001b[0;34m.\u001b[0m\u001b[0mi\u001b[0m \u001b[0;34m=\u001b[0m \u001b[0;36m0.001\u001b[0m\u001b[0;34m\u001b[0m\n",
       "\u001b[0;34m\u001b[0m        \u001b[0mself\u001b[0m\u001b[0;34m.\u001b[0m\u001b[0mR\u001b[0m \u001b[0;34m=\u001b[0m \u001b[0;36m10000.\u001b[0m\u001b[0;34m\u001b[0m\n",
       "\u001b[0;34m\u001b[0m        \u001b[0;34m\u001b[0m\n",
       "\u001b[0;34m\u001b[0m        \u001b[0mself\u001b[0m\u001b[0;34m.\u001b[0m\u001b[0mregister_variable\u001b[0m\u001b[0;34m(\u001b[0m\u001b[0mReal\u001b[0m\u001b[0;34m(\u001b[0m\u001b[0;34m\"R\"\u001b[0m\u001b[0;34m,\u001b[0m \u001b[0mcausality\u001b[0m\u001b[0;34m=\u001b[0m\u001b[0mFmi2Causality\u001b[0m\u001b[0;34m.\u001b[0m\u001b[0mparameter\u001b[0m\u001b[0;34m,\u001b[0m \u001b[0mvariability\u001b[0m\u001b[0;34m=\u001b[0m\u001b[0mFmi2Variability\u001b[0m\u001b[0;34m.\u001b[0m\u001b[0mtunable\u001b[0m\u001b[0;34m)\u001b[0m\u001b[0;34m)\u001b[0m\u001b[0;34m\u001b[0m\n",
       "\u001b[0;34m\u001b[0m\u001b[0;34m\u001b[0m\n",
       "\u001b[0;34m\u001b[0m        \u001b[0mself\u001b[0m\u001b[0;34m.\u001b[0m\u001b[0mregister_variable\u001b[0m\u001b[0;34m(\u001b[0m\u001b[0mReal\u001b[0m\u001b[0;34m(\u001b[0m\u001b[0;34m\"positive_pin_v\"\u001b[0m\u001b[0;34m,\u001b[0m \u001b[0mcausality\u001b[0m\u001b[0;34m=\u001b[0m\u001b[0mFmi2Causality\u001b[0m\u001b[0;34m.\u001b[0m\u001b[0minput\u001b[0m\u001b[0;34m)\u001b[0m\u001b[0;34m)\u001b[0m\u001b[0;34m\u001b[0m\n",
       "\u001b[0;34m\u001b[0m        \u001b[0mself\u001b[0m\u001b[0;34m.\u001b[0m\u001b[0mregister_variable\u001b[0m\u001b[0;34m(\u001b[0m\u001b[0mReal\u001b[0m\u001b[0;34m(\u001b[0m\u001b[0;34m\"positive_pin_i\"\u001b[0m\u001b[0;34m,\u001b[0m \u001b[0mcausality\u001b[0m\u001b[0;34m=\u001b[0m\u001b[0mFmi2Causality\u001b[0m\u001b[0;34m.\u001b[0m\u001b[0moutput\u001b[0m\u001b[0;34m)\u001b[0m\u001b[0;34m)\u001b[0m\u001b[0;34m\u001b[0m\n",
       "\u001b[0;34m\u001b[0m        \u001b[0mself\u001b[0m\u001b[0;34m.\u001b[0m\u001b[0mregister_variable\u001b[0m\u001b[0;34m(\u001b[0m\u001b[0mReal\u001b[0m\u001b[0;34m(\u001b[0m\u001b[0;34m\"negative_pin_v\"\u001b[0m\u001b[0;34m,\u001b[0m \u001b[0mcausality\u001b[0m\u001b[0;34m=\u001b[0m\u001b[0mFmi2Causality\u001b[0m\u001b[0;34m.\u001b[0m\u001b[0minput\u001b[0m\u001b[0;34m)\u001b[0m\u001b[0;34m)\u001b[0m\u001b[0;34m\u001b[0m\n",
       "\u001b[0;34m\u001b[0m        \u001b[0mself\u001b[0m\u001b[0;34m.\u001b[0m\u001b[0mregister_variable\u001b[0m\u001b[0;34m(\u001b[0m\u001b[0mReal\u001b[0m\u001b[0;34m(\u001b[0m\u001b[0;34m\"negative_pin_i\"\u001b[0m\u001b[0;34m,\u001b[0m \u001b[0mcausality\u001b[0m\u001b[0;34m=\u001b[0m\u001b[0mFmi2Causality\u001b[0m\u001b[0;34m.\u001b[0m\u001b[0moutput\u001b[0m\u001b[0;34m)\u001b[0m\u001b[0;34m)\u001b[0m\u001b[0;34m\u001b[0m\n",
       "\u001b[0;34m\u001b[0m\u001b[0;34m\u001b[0m\n",
       "\u001b[0;34m\u001b[0m        \u001b[0mself\u001b[0m\u001b[0;34m.\u001b[0m\u001b[0mregister_variable\u001b[0m\u001b[0;34m(\u001b[0m\u001b[0mReal\u001b[0m\u001b[0;34m(\u001b[0m\u001b[0;34m\"delta_v\"\u001b[0m\u001b[0;34m,\u001b[0m \u001b[0mcausality\u001b[0m\u001b[0;34m=\u001b[0m\u001b[0mFmi2Causality\u001b[0m\u001b[0;34m.\u001b[0m\u001b[0mlocal\u001b[0m\u001b[0;34m)\u001b[0m\u001b[0;34m)\u001b[0m\u001b[0;34m\u001b[0m\n",
       "\u001b[0;34m\u001b[0m        \u001b[0mself\u001b[0m\u001b[0;34m.\u001b[0m\u001b[0mregister_variable\u001b[0m\u001b[0;34m(\u001b[0m\u001b[0mReal\u001b[0m\u001b[0;34m(\u001b[0m\u001b[0;34m\"i\"\u001b[0m\u001b[0;34m,\u001b[0m \u001b[0mcausality\u001b[0m\u001b[0;34m=\u001b[0m\u001b[0mFmi2Causality\u001b[0m\u001b[0;34m.\u001b[0m\u001b[0mlocal\u001b[0m\u001b[0;34m)\u001b[0m\u001b[0;34m)\u001b[0m\u001b[0;34m\u001b[0m\n",
       "\u001b[0;34m\u001b[0m\u001b[0;34m\u001b[0m\n",
       "\u001b[0;34m\u001b[0m    \u001b[0;32mdef\u001b[0m \u001b[0mdo_step\u001b[0m\u001b[0;34m(\u001b[0m\u001b[0mself\u001b[0m\u001b[0;34m,\u001b[0m \u001b[0mcurrent_time\u001b[0m\u001b[0;34m,\u001b[0m \u001b[0mstep_size\u001b[0m\u001b[0;34m)\u001b[0m\u001b[0;34m:\u001b[0m\u001b[0;34m\u001b[0m\n",
       "\u001b[0;34m\u001b[0m        \u001b[0mself\u001b[0m\u001b[0;34m.\u001b[0m\u001b[0mdelta_v\u001b[0m \u001b[0;34m=\u001b[0m \u001b[0mself\u001b[0m\u001b[0;34m.\u001b[0m\u001b[0mpositive_pin_v\u001b[0m \u001b[0;34m-\u001b[0m \u001b[0mself\u001b[0m\u001b[0;34m.\u001b[0m\u001b[0mnegative_pin_v\u001b[0m\u001b[0;34m\u001b[0m\n",
       "\u001b[0;34m\u001b[0m        \u001b[0mself\u001b[0m\u001b[0;34m.\u001b[0m\u001b[0mi\u001b[0m \u001b[0;34m=\u001b[0m \u001b[0mi\u001b[0m \u001b[0;34m=\u001b[0m \u001b[0mself\u001b[0m\u001b[0;34m.\u001b[0m\u001b[0mdelta_v\u001b[0m \u001b[0;34m/\u001b[0m \u001b[0mself\u001b[0m\u001b[0;34m.\u001b[0m\u001b[0mR\u001b[0m\u001b[0;34m\u001b[0m\n",
       "\u001b[0;34m\u001b[0m        \u001b[0mself\u001b[0m\u001b[0;34m.\u001b[0m\u001b[0mpositive_pin_i\u001b[0m \u001b[0;34m=\u001b[0m \u001b[0mi\u001b[0m\u001b[0;34m\u001b[0m\n",
       "\u001b[0;34m\u001b[0m        \u001b[0mself\u001b[0m\u001b[0;34m.\u001b[0m\u001b[0mnegative_pin_i\u001b[0m \u001b[0;34m=\u001b[0m \u001b[0;34m-\u001b[0m\u001b[0mi\u001b[0m\u001b[0;34m\u001b[0m\n",
       "\u001b[0;34m\u001b[0m        \u001b[0;32mreturn\u001b[0m \u001b[0;32mTrue\u001b[0m\u001b[0;34m\u001b[0m\u001b[0;34m\u001b[0m\u001b[0m\n"
      ]
     },
     "metadata": {},
     "output_type": "display_data"
    }
   ],
   "source": [
    "%pycat demoslave.py"
   ]
  },
  {
   "cell_type": "markdown",
   "metadata": {},
   "source": [
    "## Generate the FMU\n",
    "\n",
    "The FMU is generated through the command line tool `pythonfmu build`."
   ]
  },
  {
   "cell_type": "code",
   "execution_count": 2,
   "metadata": {},
   "outputs": [],
   "source": [
    "!pythonfmu build -f ./demoslave.py --no-external-tool"
   ]
  },
  {
   "cell_type": "markdown",
   "metadata": {},
   "source": [
    "The mandatory information to pass to the builder is the Python script file through the `-f` option. \n",
    "\n",
    "> By default the generated FMU states that a external tool (i.e. Python) is needed for its execution. But the usage of the FMU is demonstrated through `pyfmi` that does not support that feature. This is the reason the option `--no-external-tool` is provided.\n",
    "\n",
    "The full list of available options is:"
   ]
  },
  {
   "cell_type": "code",
   "execution_count": 3,
   "metadata": {},
   "outputs": [
    {
     "name": "stdout",
     "output_type": "stream",
     "text": [
      "usage: pythonfmu build [-h] [-v] -f SCRIPT_FILE [-d DEST]\n",
      "                         [--doc DOCUMENTATION_FOLDER] [--no-external-tool]\n",
      "                         [--no-variable-step] [--interpolate-inputs]\n",
      "                         [--only-one-per-process] [--handle-state]\n",
      "                         [--serialize-state] [--use-memory-management]\n",
      "                         [Project files [Project files ...]]\n",
      "\n",
      "Build a FMU from a Python script.\n",
      "\n",
      "positional arguments:\n",
      "  Project files         Additional project files required by the Python\n",
      "                        script.\n",
      "\n",
      "optional arguments:\n",
      "  -h, --help            show this help message and exit\n",
      "  -v, --version         show program's version number and exit\n",
      "  -f SCRIPT_FILE, --file SCRIPT_FILE\n",
      "                        Path to the Python script.\n",
      "  -d DEST, --dest DEST  Where to save the FMU.\n",
      "  --doc DOCUMENTATION_FOLDER\n",
      "                        Documentation folder to include in the FMU.\n",
      "  --no-external-tool    If given, needsExecutionTool=false\n",
      "  --no-variable-step    If given, canHandleVariableCommunicationStepSize=false\n",
      "  --interpolate-inputs  If given, canInterpolateInputs=true\n",
      "  --only-one-per-process\n",
      "                        If given, canBeInstantiatedOnlyOncePerProcess=true\n",
      "  --handle-state        If given, canGetAndSetFMUstate=true\n",
      "  --serialize-state     If given, canSerializeFMUstate=true\n",
      "  --use-memory-management\n",
      "                        If given, canNotUseMemoryManagementFunctions=false\n"
     ]
    }
   ],
   "source": [
    "!pythonfmu build -h"
   ]
  },
  {
   "cell_type": "markdown",
   "metadata": {},
   "source": [
    "## Use the FMU\n",
    "\n",
    "You can now use the FMU. For example through the `pyfmi` Python package:"
   ]
  },
  {
   "cell_type": "code",
   "execution_count": 4,
   "metadata": {},
   "outputs": [
    {
     "data": {
      "image/png": "[encoded data removed]",
      "text/plain": [
       "<Figure size 432x288 with 2 Axes>"
      ]
     },
     "metadata": {
      "needs_background": "light"
     },
     "output_type": "display_data"
    }
   ],
   "source": [
    "%matplotlib inline\n",
    "\n",
    "from pyfmi import load_fmu\n",
    "\n",
    "import matplotlib.pyplot as p\n",
    "import numpy\n",
    "\n",
    "model = load_fmu('Resistor.fmu')\n",
    "\n",
    "inputs = ('positive_pin_v', lambda t: 20 + 5. * numpy.cos(t))\n",
    "\n",
    "res = model.simulate(final_time=30, input=inputs, options={'ncp': 300})\n",
    "\n",
    "fig = p.figure()\n",
    "ax1 = p.subplot(2, 1, 1)\n",
    "ax1.plot(res['time'], res['i'])\n",
    "ax1.set_ylabel('Intensity [A]')\n",
    "ax2 = p.subplot(2, 1, 2)\n",
    "ax2.plot(res['time'], res['delta_v'])\n",
    "ax2.set_xlabel('time')\n",
    "ax2.set_ylabel('Voltage [V]')\n",
    "p.show();"
   ]
  },
  {
   "cell_type": "markdown",
   "metadata": {},
   "source": [
    "The code specifies a *parameter*, which you could change:"
   ]
  },
  {
   "cell_type": "code",
   "execution_count": 5,
   "metadata": {},
   "outputs": [
    {
     "data": {
      "image/png": "[encoded data removed]",
      "text/plain": [
       "<Figure size 432x288 with 1 Axes>"
      ]
     },
     "metadata": {
      "needs_background": "light"
     },
     "output_type": "display_data"
    }
   ],
   "source": [
    "R_reference = model.get_model_variables()['R'].value_reference\n",
    "model.set_real([R_reference, ], [1000., ])\n",
    "\n",
    "res2 = model.simulate(final_time=30, input=inputs, options={'ncp': 300})\n",
    "\n",
    "fig = p.figure()\n",
    "p.plot(res['time'], res['i'], res2['time'], res2['i'])\n",
    "p.xlabel('time')\n",
    "p.ylabel('Voltage [V]')\n",
    "p.show();"
   ]
  },
  {
   "cell_type": "code",
   "execution_count": 6,
   "metadata": {},
   "outputs": [],
   "source": [
    "model.free_instance()  # It is currently not possible to load two Python FMUs simultaneously"
   ]
  },
  {
   "cell_type": "markdown",
   "metadata": {},
   "source": [
    "## Install FMU dependencies\n",
    "\n",
    "Python script can use third-party libraries. PythonFMU does not include such dependencies within the FMU. So it is up to the end user to installed the dependent packages.\n",
    "\n",
    "However to help the process, you could include as project file in your FMU a requirement file. Then the end user will be able to install the dependencies using the `pythonfmu deploy` tool. The tool supports for now two packages manager: `pip` and `conda`. Moreover if you use the default convention for naming the requirement file (i.e. *requirements.txt* for `pip` and *environment.yml* for `conda`), the end user won't need to specify the file name nor the package manager to be used.\n",
    "\n",
    "In the following paragraphs, an example requiring `scipy` will be demonstated. The Python facade is defined in the `scipyslave.py` file and the requirement are provided in `environment.yml` for usage with `conda`."
   ]
  },
  {
   "cell_type": "code",
   "execution_count": 7,
   "metadata": {},
   "outputs": [
    {
     "name": "stdout",
     "output_type": "stream",
     "text": [
      "usage: pythonfmu deploy [-h] [-v] -f FMU [-e ENVIRONMENT] [{pip,conda}]\n",
      "\n",
      "Deploy a Python FMU. The command will look in the `resources` folder for one\n",
      "of the following files: - `requirements.txt`: Install dependencies using pip\n",
      "package manager - `environment.yaml`: Update the current environment using the\n",
      "conda package manager If you specify a environment file but no package\n",
      "manager, `conda` will be selected for `.yaml` and `.yml` otherwise `pip` will\n",
      "be used. The tool assume the Python environment in which the FMU should be\n",
      "executed is the current one.\n",
      "\n",
      "positional arguments:\n",
      "  {pip,conda}           Python packages manager\n",
      "\n",
      "optional arguments:\n",
      "  -h, --help            show this help message and exit\n",
      "  -v, --version         show program's version number and exit\n",
      "  -f FMU, --file FMU    Path to the Python FMU.\n",
      "  -e ENVIRONMENT, --env ENVIRONMENT\n",
      "                        Requirements or environment file.\n"
     ]
    }
   ],
   "source": [
    "!pythonfmu deploy -h"
   ]
  },
  {
   "cell_type": "markdown",
   "metadata": {},
   "source": [
    "### Include the requirement file"
   ]
  },
  {
   "cell_type": "code",
   "execution_count": 8,
   "metadata": {},
   "outputs": [],
   "source": [
    "!pythonfmu build -f sympyslave.py environment.yml --no-external-tool"
   ]
  },
  {
   "cell_type": "markdown",
   "metadata": {},
   "source": [
    "## Installation by the end user\n",
    "\n",
    "`scipy` is not yet installed. So the FMU cannot be executed."
   ]
  },
  {
   "cell_type": "code",
   "execution_count": 9,
   "metadata": {},
   "outputs": [
    {
     "name": "stdout",
     "output_type": "stream",
     "text": [
      "Simulation terminated prematurely. See the log for possibly more information. Return flag 4.\n"
     ]
    }
   ],
   "source": [
    "%matplotlib inline\n",
    "\n",
    "from pyfmi import load_fmu\n",
    "\n",
    "import matplotlib.pyplot as p\n",
    "import numpy\n",
    "\n",
    "sympy_model = load_fmu('SympySlave.fmu')\n",
    "\n",
    "inputs = ('realIn', lambda t: 5.)\n",
    "\n",
    "sympy_model.simulate(final_time=30, input=inputs, options={'ncp': 300});"
   ]
  },
  {
   "cell_type": "markdown",
   "metadata": {},
   "source": [
    "To install the FMU dependencies, the end user will need to execute:"
   ]
  },
  {
   "cell_type": "code",
   "execution_count": 10,
   "metadata": {},
   "outputs": [
    {
     "name": "stdout",
     "output_type": "stream",
     "text": [
      "Collecting package metadata (repodata.json): ...working... done\n",
      "Solving environment: ...working... done\n",
      "Preparing transaction: ...working... done\n",
      "Verifying transaction: ...working... done\n",
      "Executing transaction: ...working... done\n"
     ]
    }
   ],
   "source": [
    "!pythonfmu deploy -f SympySlave.fmu"
   ]
  },
  {
   "cell_type": "markdown",
   "metadata": {},
   "source": [
    "The FMU can now be executed."
   ]
  }
 ],
 "metadata": {
  "file_extension": ".py",
  "kernelspec": {
   "display_name": "Python 3",
   "language": "python",
   "name": "python3"
  },
  "language_info": {
   "codemirror_mode": {
    "name": "ipython",
    "version": 3
   },
   "file_extension": ".py",
   "mimetype": "text/x-python",
   "name": "python",
   "nbconvert_exporter": "python",
   "pygments_lexer": "ipython3",
   "version": "3.8.1"
  },
  "mimetype": "text/x-python",
  "name": "python",
  "npconvert_exporter": "python",
  "pygments_lexer": "ipython3",
  "version": 3
 },
 "nbformat": 4,
 "nbformat_minor": 4
}
